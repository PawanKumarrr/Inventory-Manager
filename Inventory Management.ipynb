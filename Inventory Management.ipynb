{
 "cells": [
  {
   "cell_type": "code",
   "execution_count": 243,
   "id": "7c419fe3",
   "metadata": {},
   "outputs": [],
   "source": [
    "# Nothing the Time of Transction\n",
    "import time"
   ]
  },
  {
   "cell_type": "markdown",
   "id": "7218a424",
   "metadata": {},
   "source": [
    "## Product Details\n",
    "\n",
    "1. Product ID\n",
    "2. Name of the Product\n",
    "3. Price of the product\n",
    "4. Quantity"
   ]
  },
  {
   "cell_type": "code",
   "execution_count": 244,
   "id": "6ba722fe",
   "metadata": {},
   "outputs": [],
   "source": [
    "#Reading the Inventory\n",
    "fd = open(\"inventory.txt\",'r')\n",
    "txt = fd.read()\n",
    "fd.close()"
   ]
  },
  {
   "cell_type": "code",
   "execution_count": 245,
   "id": "96bbea21",
   "metadata": {},
   "outputs": [
    {
     "name": "stdout",
     "output_type": "stream",
     "text": [
      "1,5 star,5,100\n",
      "2,milky bar,5,0\n",
      "3,cake,300,25 \n",
      "4,candy,5,30\n",
      "\n"
     ]
    }
   ],
   "source": [
    "print(txt)"
   ]
  },
  {
   "cell_type": "code",
   "execution_count": 246,
   "id": "ee8a558f",
   "metadata": {},
   "outputs": [
    {
     "name": "stdout",
     "output_type": "stream",
     "text": [
      "['1,5 star,5,100', '2,milky bar,5,0', '3,cake,300,25 ', '4,candy,5,30']\n"
     ]
    }
   ],
   "source": [
    "products = txt.split('\\n')\n",
    "products.pop()\n",
    "print(products)"
   ]
  },
  {
   "cell_type": "code",
   "execution_count": 247,
   "id": "63e0cd03",
   "metadata": {},
   "outputs": [
    {
     "data": {
      "text/plain": [
       "5"
      ]
     },
     "execution_count": 247,
     "metadata": {},
     "output_type": "execute_result"
    }
   ],
   "source": [
    "len(txt.split('\\n'))"
   ]
  },
  {
   "cell_type": "code",
   "execution_count": 248,
   "id": "8de482c6",
   "metadata": {},
   "outputs": [
    {
     "name": "stdout",
     "output_type": "stream",
     "text": [
      "1,5 star,5,100\n",
      "2,milky bar,5,0\n",
      "3,cake,300,25 \n",
      "4,candy,5,30\n"
     ]
    }
   ],
   "source": [
    "for product in products:\n",
    "    print(product)"
   ]
  },
  {
   "cell_type": "markdown",
   "id": "af427be6",
   "metadata": {},
   "source": [
    "### User want to details of perticular productId"
   ]
  },
  {
   "cell_type": "code",
   "execution_count": 250,
   "id": "3ff3bb0e",
   "metadata": {},
   "outputs": [
    {
     "name": "stdout",
     "output_type": "stream",
     "text": [
      "Please Enter your Name : prabhat\n",
      "Please Enter your Phone Number : 1098765432\n",
      "Please Enter your Email Id : mnbvcxz@gmail.com\n",
      "Please Enter the product Id : 1\n",
      "Please Enter the Required Quantity : 1001\n",
      "Sorry, We're not having enough quantity.\n",
      "We're having only 100 quantity\n",
      "Would you like to purchase it?\n",
      "Press Y/N y\n",
      "---------------------------------\n",
      "Product Name    : 5 star\n",
      "Price           : 5\n",
      "Quantity        : 100\n",
      "---------------------------------\n",
      "Billing Amount  : 500\n",
      "---------------------------------\n"
     ]
    }
   ],
   "source": [
    "#Taking user input and if product exist and printing the Bill\n",
    "user_name = input(\"Please Enter your Name : \")\n",
    "user_phone = input(\"Please Enter your Phone Number : \")\n",
    "user_email = input(\"Please Enter your Email Id : \")\n",
    "userInput_productId = input(\"Please Enter the product Id : \")\n",
    "userInput_requiredQuantity = input(\"Please Enter the Required Quantity : \")\n",
    "\n",
    "#The below variable will note the total amount of purchase\n",
    "amount_paid = 0\n",
    "\n",
    "#if purchased is changed to true later than the details will be saved in sales file\n",
    "purchased = False\n",
    "\n",
    "updated_product_lst=[]\n",
    "\n",
    "for product in products:\n",
    "    prod_details = product.split(',')\n",
    "    if(prod_details[0]==userInput_productId):\n",
    "        if(int(userInput_requiredQuantity)<=int(prod_details[3])):\n",
    "            print(\"---------------------------------\")\n",
    "            print(\"Product Name    :\", prod_details[1])\n",
    "            print(\"Price           :\", prod_details[2])\n",
    "            print(\"Quantity        :\", userInput_requiredQuantity)\n",
    "            print(\"---------------------------------\")\n",
    "            amount_paid = int(prod_details[2]) * int(userInput_requiredQuantity)\n",
    "            print(\"Billing Amount  :\",amount_paid)\n",
    "            print(\"---------------------------------\")\n",
    "            prod_details[3] = str(int(prod_details[3])-int(userInput_requiredQuantity))\n",
    "            purchased = True\n",
    "        else:\n",
    "            print(\"Sorry, We're not having enough quantity.\")\n",
    "            print(\"We're having only\",prod_details[3],\"quantity\")\n",
    "            print(\"Would you like to purchase it?\")\n",
    "            \n",
    "            ch = input(\"Press Y/N \")\n",
    "            if(ch == 'Y' or ch == 'y'):\n",
    "                print(\"---------------------------------\")\n",
    "                print(\"Product Name    :\", prod_details[1])\n",
    "                print(\"Price           :\", prod_details[2])\n",
    "                print(\"Quantity        :\", prod_details[3])\n",
    "                print(\"---------------------------------\")\n",
    "                amount_paid = int(prod_details[2]) * int(prod_details[3])\n",
    "                print(\"Billing Amount  :\",amount_paid)\n",
    "                print(\"---------------------------------\")\n",
    "                prod_details[3] = '0'\n",
    "                purchased = True\n",
    "            else:\n",
    "                print(\"Thanks\")\n",
    "                \n",
    "    updated_product_lst.append(prod_details)"
   ]
  },
  {
   "cell_type": "code",
   "execution_count": 251,
   "id": "a50cc56f",
   "metadata": {},
   "outputs": [],
   "source": [
    "#If purchased == true update the details in sales file\n",
    "if(purchased==True):\n",
    "    fd = open(\"sales.txt\",'a')\n",
    "    sales_details = str(user_name+\",\"+user_phone+\",\"+user_email+\",\"+userInput_productId+\",\"+str(amount_paid))+\",\"+time.ctime()+\"\\n\"\n",
    "    fd.write(sales_details)\n",
    "    fd.close()"
   ]
  },
  {
   "cell_type": "code",
   "execution_count": 252,
   "id": "eeba198f",
   "metadata": {
    "scrolled": true
   },
   "outputs": [
    {
     "name": "stdout",
     "output_type": "stream",
     "text": [
      "[['1', '5 star', '5', '0'], ['2', 'milky bar', '5', '0'], ['3', 'cake', '300', '25 '], ['4', 'candy', '5', '30']]\n"
     ]
    }
   ],
   "source": [
    "print(updated_product_lst)"
   ]
  },
  {
   "cell_type": "code",
   "execution_count": 253,
   "id": "9efde42e",
   "metadata": {},
   "outputs": [
    {
     "name": "stdout",
     "output_type": "stream",
     "text": [
      "1,5 star,5,0\n",
      "\n",
      "2,milky bar,5,0\n",
      "\n",
      "3,cake,300,25 \n",
      "\n",
      "4,candy,5,30\n",
      "\n"
     ]
    }
   ],
   "source": [
    "#Updating the Inventory\n",
    "fd = open('inventory.txt','w')\n",
    "for i in updated_product_lst:\n",
    "    prod = i[0]+\",\"+i[1]+\",\"+i[2]+\",\"+i[3]+'\\n'\n",
    "    print(prod)\n",
    "    fd.write(prod)\n",
    "fd.close()\n",
    "    "
   ]
  },
  {
   "cell_type": "code",
   "execution_count": null,
   "id": "d38b6d4f",
   "metadata": {},
   "outputs": [],
   "source": []
  }
 ],
 "metadata": {
  "kernelspec": {
   "display_name": "Python 3 (ipykernel)",
   "language": "python",
   "name": "python3"
  },
  "language_info": {
   "codemirror_mode": {
    "name": "ipython",
    "version": 3
   },
   "file_extension": ".py",
   "mimetype": "text/x-python",
   "name": "python",
   "nbconvert_exporter": "python",
   "pygments_lexer": "ipython3",
   "version": "3.10.9"
  }
 },
 "nbformat": 4,
 "nbformat_minor": 5
}
